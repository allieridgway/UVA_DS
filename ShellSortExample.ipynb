{
  "nbformat": 4,
  "nbformat_minor": 0,
  "metadata": {
    "colab": {
      "provenance": [],
      "authorship_tag": "ABX9TyPLvhedf5WVoT4GXWdSwUWx",
      "include_colab_link": true
    },
    "kernelspec": {
      "name": "python3",
      "display_name": "Python 3"
    },
    "language_info": {
      "name": "python"
    }
  },
  "cells": [
    {
      "cell_type": "markdown",
      "metadata": {
        "id": "view-in-github",
        "colab_type": "text"
      },
      "source": [
        "<a href=\"https://colab.research.google.com/github/allieridgway/UVA_DS/blob/main/ShellSortExample.ipynb\" target=\"_parent\"><img src=\"https://colab.research.google.com/assets/colab-badge.svg\" alt=\"Open In Colab\"/></a>"
      ]
    },
    {
      "cell_type": "code",
      "metadata": {
        "id": "AQ4arhe0W8Rn"
      },
      "source": [
        "# Define Shell Sort\n",
        "def shellSort(array, n):\n",
        "\n",
        "    # Rearrange elements at each n/2, n/4, n/8, ... intervals\n",
        "    interval = n // 2\n",
        "    while interval > 0:\n",
        "        for i in range(interval, n):\n",
        "            temp = array[i]\n",
        "            j = i\n",
        "            while j >= interval and array[j - interval] > temp:\n",
        "                print(array[j - interval], temp)\n",
        "                array[j] = array[j - interval]\n",
        "                j -= interval\n",
        "\n",
        "            array[j] = temp\n",
        "        interval //= 2"
      ],
      "execution_count": null,
      "outputs": []
    },
    {
      "cell_type": "code",
      "metadata": {
        "colab": {
          "base_uri": "https://localhost:8080/"
        },
        "id": "Ptt6d2RmXQIo",
        "outputId": "7aa4e82c-55ef-4c55-9d21-165e20f177a9"
      },
      "source": [
        "#Sample Code\n",
        "data = [9, 8, 3, 7, 5, 6, 4, 1, 10, 2, 0]\n",
        "size = len(data)\n",
        "\n",
        "0,  4,  1,  7,  2,  6,  8,  3,  5,  9]\n",
        "\n",
        "#Run Shell Short Definition\n",
        "shellSort(data, size)\n",
        "\n",
        "#Print Shell Sort Output\n",
        "print('Sorted Array:')\n",
        "print(data)"
      ],
      "execution_count": null,
      "outputs": [
        {
          "output_type": "stream",
          "text": [
            "9 6\n",
            "8 4\n",
            "3 1\n",
            "5 2\n",
            "9 0\n",
            "6 0\n",
            "7 6\n",
            "7 3\n",
            "6 3\n",
            "4 3\n",
            "7 5\n",
            "6 5\n",
            "10 9\n",
            "3 1\n",
            "4 2\n",
            "3 2\n",
            "8 6\n",
            "9 7\n",
            "8 7\n",
            "Sorted Array:\n",
            "[0, 1, 2, 3, 4, 5, 6, 7, 8, 9, 10]\n"
          ],
          "name": "stdout"
        }
      ]
    },
    {
      "cell_type": "code",
      "metadata": {
        "colab": {
          "base_uri": "https://localhost:8080/"
        },
        "id": "pO8VRtMBXRYn",
        "outputId": "0170fca8-3338-4300-e52d-34745027d6a0"
      },
      "source": [
        "11//2\n"
      ],
      "execution_count": null,
      "outputs": [
        {
          "output_type": "execute_result",
          "data": {
            "text/plain": [
              "5"
            ]
          },
          "metadata": {
            "tags": []
          },
          "execution_count": 1
        }
      ]
    }
  ]
}