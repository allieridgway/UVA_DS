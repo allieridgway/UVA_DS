{
  "nbformat": 4,
  "nbformat_minor": 0,
  "metadata": {
    "colab": {
      "provenance": [],
      "include_colab_link": true
    },
    "kernelspec": {
      "name": "python3",
      "display_name": "Python 3"
    }
  },
  "cells": [
    {
      "cell_type": "markdown",
      "metadata": {
        "id": "view-in-github",
        "colab_type": "text"
      },
      "source": [
        "<a href=\"https://colab.research.google.com/github/allieridgway/UVA_DS/blob/main/CS_Exception_Handling.ipynb\" target=\"_parent\"><img src=\"https://colab.research.google.com/assets/colab-badge.svg\" alt=\"Open In Colab\"/></a>"
      ]
    },
    {
      "cell_type": "markdown",
      "metadata": {
        "id": "rLkNE4eOF5-v"
      },
      "source": [
        "Live Session Exercise : Exception Handling\n",
        "\n",
        "Allie Ridgway  |  ysx4m@virginia.edu\n",
        "\n",
        "Jake Kolessar  |  jak4as@virginia.edu"
      ]
    },
    {
      "cell_type": "code",
      "metadata": {
        "id": "0f_scjd-GxuN",
        "colab": {
          "base_uri": "https://localhost:8080/"
        },
        "outputId": "180649c1-44dc-44ed-c46d-b31d83776d7d"
      },
      "source": [
        "import math\n",
        "\n",
        "try:\n",
        "#Test FileNotFoundError\n",
        "    name = input(\"Enter the name of a file: \")\n",
        "    file = open(name, 'r')  # try to open this file for reading\n",
        "\n",
        "\n",
        "#Tests ZeroDivisionError\n",
        "    num1 = int(input(\"Enter a number: \"))\n",
        "    num2 = int(input(\"Enter a number to divide by (use 0 to test errors): \")) #Put 0 to Test ZeroDivisionError\n",
        "    value = num1 / num2\n",
        "    print(str(num1) + \" / \" + str(num2) + \" = \" + str(value))\n",
        "\n",
        "#Test Arithmetic Error\n",
        "    large_num1= int(input(\"Enter a massive number (hint:try 300000): \"))\n",
        "    result = math.exp(large_num1)\n",
        "    print(result)\n",
        "\n",
        "#Test Value Error\n",
        "    string= 'Name' #any value that is not an int will throw the error\n",
        "    string2= int(string)\n",
        "\n",
        "#Test TypeError\n",
        "    print(num2 + str(num1)) #can not combine different value types\n",
        "\n",
        "#Test FileNotFoundError and IOError\n",
        "    file= input('Enter the name of a file that actually exists:')\n",
        "    f = open(file, \"r\")\n",
        "    f.write(\"Now the file has more content!\")\n",
        "\n",
        "except FileNotFoundError:   # specifically for file errors [BEFORE IOError!] -- Comment out to Test IO errors\n",
        "    print(\"** FileNotFoundError >> Cannot find/open file! **\")\n",
        "except ZeroDivisionError:\n",
        "    print(\"** Youre value to divide cannot be 0! **\")\n",
        "except ArithmeticError:\n",
        "    print(\"** Arithmetic Error **\")\n",
        "except TypeError:\n",
        "    print(\"** TypeError **\")\n",
        "except IOError:  # for general IO errors (Comment out FileNotFoundError)\n",
        "    print(\"** IOError! **\")\n",
        "except ValueError:\n",
        "    print(\"** ValueError **\")\n",
        "except Exception: # Either Comment out all errors to test, or place at top to test\n",
        "  print(\"** Exception ** \")\n",
        "finally:\n",
        "    print(\" ** All Done. **\")\n"
      ],
      "execution_count": null,
      "outputs": [
        {
          "output_type": "stream",
          "text": [
            "Enter the name of a file: j\n",
            "** FileNotFoundError >> Cannot find/open file! **\n",
            " ** All Done. **\n"
          ],
          "name": "stdout"
        }
      ]
    }
  ]
}