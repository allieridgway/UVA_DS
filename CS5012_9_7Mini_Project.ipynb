{
  "nbformat": 4,
  "nbformat_minor": 0,
  "metadata": {
    "colab": {
      "provenance": [],
      "include_colab_link": true
    },
    "kernelspec": {
      "name": "python3",
      "display_name": "Python 3"
    },
    "language_info": {
      "name": "python"
    }
  },
  "cells": [
    {
      "cell_type": "markdown",
      "metadata": {
        "id": "view-in-github",
        "colab_type": "text"
      },
      "source": [
        "<a href=\"https://colab.research.google.com/github/allieridgway/UVA_DS/blob/main/CS5012_9_7Mini_Project.ipynb\" target=\"_parent\"><img src=\"https://colab.research.google.com/assets/colab-badge.svg\" alt=\"Open In Colab\"/></a>"
      ]
    },
    {
      "cell_type": "markdown",
      "metadata": {
        "id": "Navyl6TuATiM"
      },
      "source": [
        "#9.7 Mini-Project: SQLite DB Creation\n",
        "\n",
        "**Allie Ridgway (ysx4gm)**\n",
        "\n",
        "**John Hazelton (jch5nb)**\n",
        "\n",
        "*Due: August 2, 2021*"
      ]
    },
    {
      "cell_type": "markdown",
      "metadata": {
        "id": "rSZPrsIU_3mj"
      },
      "source": [
        "Directions: Use Piazza to form into groups of 2–3 and complete the tasks below. It will be helpful for you to meet with your small groups live, via Zoom, or another virtual method.\n",
        "\n",
        "1. Review the resources in 9.4.\n",
        "Note: We highly recommend doing everything on Colab or Jupiter Notebook, as this is the required submitted format.\n",
        "2. Select a domain you find interesting and could benefit from a database.\n",
        "3. Create an ER diagram and Schema for the DB.\n",
        "4. Create a small database (minimum 3–4 tables) for the domain (writing python scripts).\n",
        " - Note: Creating a DB is a requirement; you cannot use an existing DB!\n",
        "5. Populate your tables with data either from an existing dataset or your own data, using python scripts.\n",
        "6. Come up with 8-10 questions to query against your database (similar to Sailors or Bank questions). Write these questions out.\n",
        "7. Find solutions to your questions using SQL queries. Write out these solutions and the produced output.\n",
        "8. Create meaningful visualizations for 4-5 of your query outputs, using whatever Python library you prefer.\n",
        "9. Check and report your solutions using the Jupiter Notebook or Colab application. Submit the complete .pynb file.\n",
        "10. If time permits, once you are done submitting (see below), find another group, show them your tables and questions, and see if they can find the SQL solutions to your questions.\n",
        "\n",
        "#SUBMISSION INSTRUCTIONS\n",
        "Submit a Jupiter Notebook file (.pnyb) with the following items:\n",
        "- The names and computing IDs at the top of the notebook\n",
        "- The description of the DB, schema, and ER diagram\n",
        "- The commands (Python scripts) to create and populate the tables\n",
        "- The questions you found interesting responding to and associated SQL queries (as Python scripts), with the corresponding output\n",
        "- The Python scripts and visualizations of the output of the selected questions"
      ]
    },
    {
      "cell_type": "code",
      "metadata": {
        "colab": {
          "base_uri": "https://localhost:8080/"
        },
        "id": "lTKnnEibSel_",
        "outputId": "d72d1d42-1f8d-42a8-b729-e82b22e045ce"
      },
      "source": [
        "from google.colab import drive\n",
        "drive.mount('/content/drive')"
      ],
      "execution_count": null,
      "outputs": [
        {
          "output_type": "stream",
          "text": [
            "Mounted at /content/drive\n"
          ],
          "name": "stdout"
        }
      ]
    },
    {
      "cell_type": "code",
      "metadata": {
        "id": "UUzCoqqwROv_"
      },
      "source": [
        "import sqlite3"
      ],
      "execution_count": null,
      "outputs": []
    },
    {
      "cell_type": "code",
      "metadata": {
        "id": "Oa1-NmepROqY"
      },
      "source": [
        "conn = sqlite3.connect('mytest.db')"
      ],
      "execution_count": null,
      "outputs": []
    },
    {
      "cell_type": "code",
      "metadata": {
        "id": "loq1RRFsROlq"
      },
      "source": [
        "cursor = conn.cursor()"
      ],
      "execution_count": null,
      "outputs": []
    },
    {
      "cell_type": "code",
      "metadata": {
        "id": "ewm1pOE9V9xt"
      },
      "source": [],
      "execution_count": null,
      "outputs": []
    },
    {
      "cell_type": "code",
      "metadata": {
        "id": "z7glNNlCRVcQ"
      },
      "source": [
        "sql = '''create table Exercise(\n",
        "    ExerciseID int PRIMARY KEY,\n",
        "    ExerciseName text\n",
        "    )'''"
      ],
      "execution_count": null,
      "outputs": []
    },
    {
      "cell_type": "code",
      "metadata": {
        "id": "Sq-S4JT9WIla"
      },
      "source": [
        "\n",
        " sql2 = '''create table Workout(\n",
        "    WorkoutID int PRIMARY KEY,\n",
        "    Workout Name text,\n",
        "    Length Estimated int,\n",
        "    ExerciseID int,\n",
        "    FOREIGN KEY (ExerciseID) REFERENCES Exercise (ExerciseID)\n",
        "    )'''"
      ],
      "execution_count": null,
      "outputs": []
    },
    {
      "cell_type": "code",
      "metadata": {
        "colab": {
          "base_uri": "https://localhost:8080/"
        },
        "id": "PscSvox5WuvT",
        "outputId": "0074d689-30e1-4019-8b8e-0bef7a46c03a"
      },
      "source": [
        "print(\"Let's input some exercise data!\")\n",
        "\n",
        "while True:\n",
        "    ExerciseID = input('ExerciseID: ')\n",
        "    ExerciseName = input('Exercise Name: ')\n",
        "    sql = '''insert into Exercise\n",
        "             (ExerciseID, ExerciseName)\n",
        "             values\n",
        "             (:ex_id, :ex_name)'''\n",
        "             # These values are \"named parameters\" (like place holders)\n",
        "             # Tells the SQLite library that something will be substitued here\n",
        "\n",
        "    # Use the cursor to execute the statement\n",
        "    # Here, a dictionary has been added of the named parameters and the items\n",
        "    # to be inserted.\n",
        "    cursor.execute(sql, {'ex_id':ExerciseID, 'ex_name':ExerciseName})\n",
        "\n",
        "    # Commit. Telling SQLite to save the new data. The data would be lost otherwise.\n",
        "    conn.commit()\n",
        "\n",
        "    # See if the user wants to add another student's information into the database...\n",
        "    cont = input(\"Another student? \")\n",
        "    # If no, break (break out of the while loop) and close the connection.\n",
        "    # Otherwise, go to the beginning of the while loop to add another student\n",
        "    if cont[0].lower() == 'n':\n",
        "        break"
      ],
      "execution_count": null,
      "outputs": [
        {
          "output_type": "stream",
          "text": [
            "Let's input some exercise data!\n",
            "ExerciseID: 123\n",
            "Exercise Name: pushup\n",
            "Another student? n\n"
          ],
          "name": "stdout"
        }
      ]
    },
    {
      "cell_type": "code",
      "metadata": {
        "id": "_WkPUmrLRatJ",
        "colab": {
          "base_uri": "https://localhost:8080/"
        },
        "outputId": "722a6c14-da57-423c-c63c-c8ebc0db4bf0"
      },
      "source": [
        "cursor.execute(sql)"
      ],
      "execution_count": null,
      "outputs": [
        {
          "output_type": "execute_result",
          "data": {
            "text/plain": [
              "<sqlite3.Cursor at 0x7f1672343880>"
            ]
          },
          "metadata": {
            "tags": []
          },
          "execution_count": 17
        }
      ]
    },
    {
      "cell_type": "code",
      "metadata": {
        "id": "tAEPVxMy_11t"
      },
      "source": [
        "\"\"\"\n",
        "Created on Sat Jul 24 11:13:47 2021\n",
        "John Hazelton\n",
        "jch5nb\n",
        "Allie Ridgway\n",
        "\n",
        "\"\"\"\n",
        "\n",
        "import sqlite3\n",
        "from sqlite3 import Error\n",
        "\n",
        "\n",
        "#create connection to SQLite DB:\n",
        "def create_connection(db_file):\n",
        "\n",
        "    conn = None\n",
        "    try:\n",
        "        conn = sqlite3.connect(db_file)\n",
        "        return conn\n",
        "    except Error as e:\n",
        "        print(e)\n",
        "\n",
        "    return conn\n",
        "\n",
        "\n",
        "\n",
        "#Create Table Fuction:\n",
        "def create_table(conn, create_table_sql):\n",
        "    #conn: connection object\n",
        "    #create_table_sql: CREATE TABLE statement\n",
        "    try:\n",
        "        c = conn.cursor()\n",
        "        c.execute(create_table_sql)\n",
        "    except Error as e:\n",
        "        print(e)\n",
        "\n",
        "\n",
        "#Main method:\n",
        "def main():\n",
        "    database = r\"C:\\Users\\johnh\\OneDrive\\Documents\\Professional\\UVA MS Data Science\\CS 5012\\M9\\workoutlog.db\"\n",
        "\n",
        "    sql_create_exercises_table = \"CREATE TABLE IF NOT EXISTS exercises(exercise_id integer PRIMARY KEY, name text NOT NULL, muscle_group text);\""
      ],
      "execution_count": null,
      "outputs": []
    },
    {
      "cell_type": "code",
      "metadata": {
        "colab": {
          "base_uri": "https://localhost:8080/",
          "height": 231
        },
        "id": "30Qn5aBoB1J3",
        "outputId": "9c561c6d-a495-4e84-e35d-44a03fe5f66d"
      },
      "source": [
        "#Create DB connection:\n",
        "conn = create_connection(database)\n",
        "\n",
        "#Create actual DB tables:\n",
        "if conn is not None:\n",
        "\n",
        "    #exercises table\n",
        "    create_table(conn, sql_create_exercises_table)\n",
        "\n",
        "else:\n",
        "    print(\"Error: can't create DB connection\")\n",
        "\n",
        "\n",
        "\n",
        "#Create our database:\n",
        "if __name__ == '__main__':\n",
        "    main()\n",
        "#    create_connection(r\"C:\\Users\\johnh\\OneDrive\\Documents\\Professional\\UVA MS Data Science\\CS 5012\\M9\\workoutlog.db\")\n",
        "\n"
      ],
      "execution_count": null,
      "outputs": [
        {
          "output_type": "error",
          "ename": "NameError",
          "evalue": "ignored",
          "traceback": [
            "\u001b[0;31m---------------------------------------------------------------------------\u001b[0m",
            "\u001b[0;31mNameError\u001b[0m                                 Traceback (most recent call last)",
            "\u001b[0;32m<ipython-input-3-3cdcef66e041>\u001b[0m in \u001b[0;36m<module>\u001b[0;34m()\u001b[0m\n\u001b[1;32m      1\u001b[0m \u001b[0;31m#Create DB connection:\u001b[0m\u001b[0;34m\u001b[0m\u001b[0;34m\u001b[0m\u001b[0;34m\u001b[0m\u001b[0m\n\u001b[0;32m----> 2\u001b[0;31m \u001b[0mconn\u001b[0m \u001b[0;34m=\u001b[0m \u001b[0mcreate_connection\u001b[0m\u001b[0;34m(\u001b[0m\u001b[0mdatabase\u001b[0m\u001b[0;34m)\u001b[0m\u001b[0;34m\u001b[0m\u001b[0;34m\u001b[0m\u001b[0m\n\u001b[0m\u001b[1;32m      3\u001b[0m \u001b[0;34m\u001b[0m\u001b[0m\n\u001b[1;32m      4\u001b[0m \u001b[0;31m#Create actual DB tables:\u001b[0m\u001b[0;34m\u001b[0m\u001b[0;34m\u001b[0m\u001b[0;34m\u001b[0m\u001b[0m\n\u001b[1;32m      5\u001b[0m \u001b[0;32mif\u001b[0m \u001b[0mconn\u001b[0m \u001b[0;32mis\u001b[0m \u001b[0;32mnot\u001b[0m \u001b[0;32mNone\u001b[0m\u001b[0;34m:\u001b[0m\u001b[0;34m\u001b[0m\u001b[0;34m\u001b[0m\u001b[0m\n",
            "\u001b[0;31mNameError\u001b[0m: name 'database' is not defined"
          ]
        }
      ]
    },
    {
      "cell_type": "code",
      "metadata": {
        "id": "PebWljPWDPo1"
      },
      "source": [],
      "execution_count": null,
      "outputs": []
    },
    {
      "cell_type": "code",
      "metadata": {
        "id": "pH0lNbafDPfE"
      },
      "source": [],
      "execution_count": null,
      "outputs": []
    },
    {
      "cell_type": "code",
      "metadata": {
        "id": "6gDmBaHZDLIV"
      },
      "source": [
        "#SQL into Pandas DB\n",
        "cursor.execute(\"SELECT * FROM students \")\n",
        "student_data=cursor.fetchall()\n",
        "student_info=pd.DataFrame(student_data,columns=['Name','Username','ID','Grade'])\n",
        "\n"
      ],
      "execution_count": null,
      "outputs": []
    },
    {
      "cell_type": "code",
      "metadata": {
        "id": "Fr66H7WgCYhI"
      },
      "source": [
        "import plotly.express as px\n",
        "\n",
        "#Sample for Later\n",
        "fig = px.scatter(df, x=\"sepal_width\", y=\"sepal_length\", color=\"species\")\n",
        "fig.show()\n",
        "\n",
        "fig = px.histogram(df, x=\"total_bill\", y=\"tip\", color=\"sex\", marginal=\"rug\", hover_data=df.columns)\n",
        "fig.show()"
      ],
      "execution_count": null,
      "outputs": []
    }
  ]
}